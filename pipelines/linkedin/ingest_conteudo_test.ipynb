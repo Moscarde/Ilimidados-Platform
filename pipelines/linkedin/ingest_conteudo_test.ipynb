{
 "cells": [
  {
   "cell_type": "markdown",
   "metadata": {},
   "source": [
    "# ETL"
   ]
  },
  {
   "cell_type": "code",
   "execution_count": 6,
   "metadata": {},
   "outputs": [],
   "source": [
    "import pandas as pd\n",
    "import hashlib\n",
    "import time\n",
    "from datetime import datetime\n",
    "\n",
    "filename = \"soujunior_content_1717580556486.xls\"\n",
    "sheets = [\"Métricas\", \"Todas as publicações\"]\n",
    "\n",
    "df_metricas = pd.read_excel(\n",
    "    \"files/\" + filename,\n",
    "    dtype=str,\n",
    "    skiprows=1,\n",
    "    sheet_name=sheets[0],\n",
    ")\n",
    "\n",
    "df_publicacoes = pd.read_excel(\n",
    "    \"files/\" + filename,\n",
    "    dtype=str,\n",
    "    skiprows=1,\n",
    "    sheet_name=sheets[1],\n",
    ")"
   ]
  },
  {
   "cell_type": "code",
   "execution_count": 28,
   "metadata": {},
   "outputs": [],
   "source": [
    "def generate_hash_id(*args):\n",
    "    row_str = \"\".join(args)\n",
    "    return hashlib.sha256(row_str.encode()).hexdigest()\n",
    "\n",
    "\n",
    "def etl(df):\n",
    "    columns_name = [\n",
    "        col.lower().replace(\" \", \"_\").replace(\"(\", \"\").replace(\")\", \"\")\n",
    "        for col in df.columns\n",
    "    ]\n",
    "    df.columns = columns_name\n",
    "\n",
    "    df[\"id\"] = df.apply(lambda row: generate_hash_id(str(row)), axis=1)\n",
    "    df[\"origem\"] = filename\n",
    "    df[\"timestamp_ingestão\"] = datetime.now().strftime(\"%Y-%m-%d %H:%M:%S\")\n",
    "    df[\"data_competencia\"] = datetime.now().strftime(\"%Y-%m-01\")\n",
    "    df[\"fonte\"] = \"linkedin\"\n",
    "    return df"
   ]
  },
  {
   "cell_type": "code",
   "execution_count": 29,
   "metadata": {},
   "outputs": [],
   "source": [
    "df_metricas = etl(df_metricas)\n",
    "df_publicacoes = etl(df_publicacoes)"
   ]
  },
  {
   "cell_type": "markdown",
   "metadata": {},
   "source": [
    "# Ingest"
   ]
  },
  {
   "cell_type": "code",
   "execution_count": 25,
   "metadata": {},
   "outputs": [
    {
     "name": "stdout",
     "output_type": "stream",
     "text": [
      "1\n"
     ]
    }
   ],
   "source": [
    "from sqlalchemy import create_engine, text\n",
    "import os\n",
    "from dotenv import load_dotenv\n",
    "\n",
    "load_dotenv()\n",
    "\n",
    "username = os.getenv(\"DB_USERNAME\")\n",
    "password = os.getenv(\"DB_PASSWORD\")\n",
    "host = os.getenv(\"DB_HOST\")\n",
    "port = os.getenv(\"DB_PORT\")\n",
    "database = os.getenv(\"DB_DATABASE\")\n",
    "\n",
    "engine = create_engine(\n",
    "    f\"mysql+pymysql://{username}:{password}@{host}:{port}/{database}\"\n",
    ")\n",
    "\n",
    "with engine.connect() as conn:\n",
    "    result = conn.execute(text(\"SELECT 1\"))\n",
    "    print(result.scalar())"
   ]
  },
  {
   "cell_type": "code",
   "execution_count": 33,
   "metadata": {},
   "outputs": [
    {
     "name": "stdout",
     "output_type": "stream",
     "text": [
      "tabela criada\n",
      "tabela criada\n"
     ]
    }
   ],
   "source": [
    "# query = \"\"\"\n",
    "#     CREATE TABLE IF NOT EXISTS linkedin_concorrentes_concorrentes (\n",
    "#         id VARCHAR(255) PRIMARY KEY,\n",
    "#         timestamp_ingestão TIMESTAMP,\n",
    "#         data_competencia DATE,\n",
    "#         page TEXT,\n",
    "#         total_de_seguidores TEXT,\n",
    "#         novos_seguidores TEXT,\n",
    "#         total_de_engajamentos_da_publicação TEXT,\n",
    "#         total_de_publicações TEXT,\n",
    "#         origem TEXT,\n",
    "#         fonte TEXT\n",
    "#     );\n",
    "# \"\"\"\n",
    "def create_query(df_columns, table_name):\n",
    "    # print(df_columns)\n",
    "    query = f\"CREATE TABLE IF NOT EXISTS {table_name} (\"\n",
    "    query += \"\"\"id VARCHAR(255) PRIMARY KEY, \n",
    "                timestamp_ingestão TIMESTAMP, \n",
    "                data_competencia DATE\"\"\"\n",
    "\n",
    "    for col in df_columns:\n",
    "        if col == \"id\" or col == \"timestamp_ingestão\" or col == \"data_competencia\":\n",
    "            continue\n",
    "        else:\n",
    "            query += f\",{col} TEXT\"\n",
    "\n",
    "    query += \");\"\n",
    "\n",
    "    return query\n",
    "\n",
    "\n",
    "def create_table(df, table_name):\n",
    "    df_columns = df.columns.to_list()\n",
    "    query = create_query(df_columns, table_name)\n",
    "\n",
    "    try:\n",
    "        with engine.connect() as conn:\n",
    "            conn.execute(text(query))\n",
    "            print(\"tabela criada\")\n",
    "\n",
    "    except Exception as e:\n",
    "        print(\"erro ao criar tabela\")\n",
    "        print(e)\n",
    "\n",
    "\n",
    "create_table(df_metricas, \"linkedin_conteudo_metricas\")\n",
    "create_table(df_publicacoes, \"linkedin_conteudo_todas_as_publicacoes\")\n",
    "\n",
    "# with engine.connect() as conn:\n",
    "#     conn.execute(text(query))\n",
    "#     print(\"tabela criada\")"
   ]
  },
  {
   "cell_type": "code",
   "execution_count": 34,
   "metadata": {},
   "outputs": [
    {
     "name": "stdout",
     "output_type": "stream",
     "text": [
      "Dados inseridos com sucesso!\n",
      "Dados inseridos com sucesso!\n"
     ]
    }
   ],
   "source": [
    "def ingest_data(df, table_name):\n",
    "    try:\n",
    "        df.to_sql(\n",
    "            table_name,\n",
    "            con=engine,\n",
    "            if_exists=\"append\",\n",
    "            index=False,\n",
    "        )\n",
    "        print(\"Dados inseridos com sucesso!\")\n",
    "    except Exception as e:\n",
    "        print(e)\n",
    "\n",
    "ingest_data(df_metricas, \"linkedin_conteudo_metricas\")\n",
    "ingest_data(df_publicacoes, \"linkedin_conteudo_todas_as_publicacoes\")"
   ]
  }
 ],
 "metadata": {
  "kernelspec": {
   "display_name": "base",
   "language": "python",
   "name": "python3"
  },
  "language_info": {
   "codemirror_mode": {
    "name": "ipython",
    "version": 3
   },
   "file_extension": ".py",
   "mimetype": "text/x-python",
   "name": "python",
   "nbconvert_exporter": "python",
   "pygments_lexer": "ipython3",
   "version": "3.12.2"
  }
 },
 "nbformat": 4,
 "nbformat_minor": 2
}
