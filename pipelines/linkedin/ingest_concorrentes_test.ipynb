{
 "cells": [
  {
   "cell_type": "markdown",
   "metadata": {},
   "source": [
    "# ETL"
   ]
  },
  {
   "cell_type": "code",
   "execution_count": 1,
   "metadata": {},
   "outputs": [
    {
     "name": "stderr",
     "output_type": "stream",
     "text": [
      "/home/moscarde/miniconda3/lib/python3.12/site-packages/openpyxl/styles/stylesheet.py:237: UserWarning: Workbook contains no default style, apply openpyxl's default\n",
      "  warn(\"Workbook contains no default style, apply openpyxl's default\")\n"
     ]
    }
   ],
   "source": [
    "import pandas as pd\n",
    "import hashlib\n",
    "import time\n",
    "from datetime import datetime\n",
    "\n",
    "filename = \"SouJunior_competitor_analytics_1717580626326.xlsx\"\n",
    "df = pd.read_excel(\n",
    "    \"files/\" + filename,\n",
    "    dtype=str,\n",
    "    skiprows=1,  # necessário para os arquivos da categoria Concorrentes\n",
    "    # sheet_name=1,\n",
    ")"
   ]
  },
  {
   "cell_type": "code",
   "execution_count": 4,
   "metadata": {},
   "outputs": [],
   "source": [
    "def generate_hash_id(*args):\n",
    "    row_str = \"\".join(args)\n",
    "    return hashlib.sha256(row_str.encode()).hexdigest()\n",
    "\n",
    "\n",
    "def etl(df):\n",
    "    columns_name = [\n",
    "        col.lower().replace(\" \", \"_\").replace(\"(\", \"\").replace(\")\", \"\")\n",
    "        for col in df.columns\n",
    "    ]\n",
    "    df.columns = columns_name\n",
    "\n",
    "    df[\"id\"] = df.apply(lambda row: generate_hash_id(str(row)), axis=1)\n",
    "    df[\"origem\"] = filename\n",
    "    df[\"timestamp_ingestão\"] = datetime.now().strftime(\"%Y-%m-%d %H:%M:%S\")\n",
    "    df[\"data_competencia\"] = datetime.now().strftime(\"%Y-%m-01\")\n",
    "    df[\"fonte\"] = \"linkedin\"\n",
    "    return df"
   ]
  },
  {
   "cell_type": "code",
   "execution_count": 5,
   "metadata": {},
   "outputs": [
    {
     "data": {
      "text/html": [
       "<div>\n",
       "<style scoped>\n",
       "    .dataframe tbody tr th:only-of-type {\n",
       "        vertical-align: middle;\n",
       "    }\n",
       "\n",
       "    .dataframe tbody tr th {\n",
       "        vertical-align: top;\n",
       "    }\n",
       "\n",
       "    .dataframe thead th {\n",
       "        text-align: right;\n",
       "    }\n",
       "</style>\n",
       "<table border=\"1\" class=\"dataframe\">\n",
       "  <thead>\n",
       "    <tr style=\"text-align: right;\">\n",
       "      <th></th>\n",
       "      <th>page</th>\n",
       "      <th>total_de_seguidores</th>\n",
       "      <th>novos_seguidores</th>\n",
       "      <th>total_de_engajamentos_da_publicação</th>\n",
       "      <th>total_de_publicações</th>\n",
       "      <th>id</th>\n",
       "      <th>origem</th>\n",
       "      <th>timestamp_ingestão</th>\n",
       "      <th>data_competencia</th>\n",
       "      <th>fonte</th>\n",
       "    </tr>\n",
       "  </thead>\n",
       "  <tbody>\n",
       "    <tr>\n",
       "      <th>0</th>\n",
       "      <td>SouJunior</td>\n",
       "      <td>95534</td>\n",
       "      <td>3583</td>\n",
       "      <td>610</td>\n",
       "      <td>44</td>\n",
       "      <td>15db44d0a04a84e016a76e1ee7dc801e3610e3afac9afb...</td>\n",
       "      <td>SouJunior_competitor_analytics_1717580626326.xlsx</td>\n",
       "      <td>2025-01-14 01:07:25</td>\n",
       "      <td>2025-01-01</td>\n",
       "      <td>linkedin</td>\n",
       "    </tr>\n",
       "    <tr>\n",
       "      <th>1</th>\n",
       "      <td>Le Wagon</td>\n",
       "      <td>78844</td>\n",
       "      <td>1004</td>\n",
       "      <td>547</td>\n",
       "      <td>9</td>\n",
       "      <td>654608c808596c76b65fc899071e4f8dece829fd725cd5...</td>\n",
       "      <td>SouJunior_competitor_analytics_1717580626326.xlsx</td>\n",
       "      <td>2025-01-14 01:07:25</td>\n",
       "      <td>2025-01-01</td>\n",
       "      <td>linkedin</td>\n",
       "    </tr>\n",
       "    <tr>\n",
       "      <th>2</th>\n",
       "      <td>GitHub Brasil</td>\n",
       "      <td>153069</td>\n",
       "      <td>4219</td>\n",
       "      <td>1139</td>\n",
       "      <td>9</td>\n",
       "      <td>df6a950ecfc5e3818add69b1584a288c016d2474cab84a...</td>\n",
       "      <td>SouJunior_competitor_analytics_1717580626326.xlsx</td>\n",
       "      <td>2025-01-14 01:07:25</td>\n",
       "      <td>2025-01-01</td>\n",
       "      <td>linkedin</td>\n",
       "    </tr>\n",
       "    <tr>\n",
       "      <th>3</th>\n",
       "      <td>Tech Pro Bem</td>\n",
       "      <td>13677</td>\n",
       "      <td>310</td>\n",
       "      <td>5</td>\n",
       "      <td>0</td>\n",
       "      <td>16f320793b9526553d2f39a459973c1aff2e1fa9d69901...</td>\n",
       "      <td>SouJunior_competitor_analytics_1717580626326.xlsx</td>\n",
       "      <td>2025-01-14 01:07:25</td>\n",
       "      <td>2025-01-01</td>\n",
       "      <td>linkedin</td>\n",
       "    </tr>\n",
       "    <tr>\n",
       "      <th>4</th>\n",
       "      <td>Trampar na Gringa</td>\n",
       "      <td>137777</td>\n",
       "      <td>4991</td>\n",
       "      <td>1213</td>\n",
       "      <td>12</td>\n",
       "      <td>f5fec2a0f6619162244f75783add2deaad7b8a386ddb0f...</td>\n",
       "      <td>SouJunior_competitor_analytics_1717580626326.xlsx</td>\n",
       "      <td>2025-01-14 01:07:25</td>\n",
       "      <td>2025-01-01</td>\n",
       "      <td>linkedin</td>\n",
       "    </tr>\n",
       "    <tr>\n",
       "      <th>5</th>\n",
       "      <td>VagasUX</td>\n",
       "      <td>44338</td>\n",
       "      <td>550</td>\n",
       "      <td>627</td>\n",
       "      <td>16</td>\n",
       "      <td>94a85411afe535ec8d1d315c292e96415d7644da406997...</td>\n",
       "      <td>SouJunior_competitor_analytics_1717580626326.xlsx</td>\n",
       "      <td>2025-01-14 01:07:25</td>\n",
       "      <td>2025-01-01</td>\n",
       "      <td>linkedin</td>\n",
       "    </tr>\n",
       "    <tr>\n",
       "      <th>6</th>\n",
       "      <td>Bichinhos da TI</td>\n",
       "      <td>9321</td>\n",
       "      <td>960</td>\n",
       "      <td>100</td>\n",
       "      <td>4</td>\n",
       "      <td>9f9c3f5d1128a337f9540a2e04ab50cd5da521cc17e408...</td>\n",
       "      <td>SouJunior_competitor_analytics_1717580626326.xlsx</td>\n",
       "      <td>2025-01-14 01:07:25</td>\n",
       "      <td>2025-01-01</td>\n",
       "      <td>linkedin</td>\n",
       "    </tr>\n",
       "  </tbody>\n",
       "</table>\n",
       "</div>"
      ],
      "text/plain": [
       "                page total_de_seguidores novos_seguidores  \\\n",
       "0          SouJunior               95534             3583   \n",
       "1           Le Wagon               78844             1004   \n",
       "2      GitHub Brasil              153069             4219   \n",
       "3       Tech Pro Bem               13677              310   \n",
       "4  Trampar na Gringa              137777             4991   \n",
       "5            VagasUX               44338              550   \n",
       "6    Bichinhos da TI                9321              960   \n",
       "\n",
       "  total_de_engajamentos_da_publicação total_de_publicações  \\\n",
       "0                                 610                   44   \n",
       "1                                 547                    9   \n",
       "2                                1139                    9   \n",
       "3                                   5                    0   \n",
       "4                                1213                   12   \n",
       "5                                 627                   16   \n",
       "6                                 100                    4   \n",
       "\n",
       "                                                  id  \\\n",
       "0  15db44d0a04a84e016a76e1ee7dc801e3610e3afac9afb...   \n",
       "1  654608c808596c76b65fc899071e4f8dece829fd725cd5...   \n",
       "2  df6a950ecfc5e3818add69b1584a288c016d2474cab84a...   \n",
       "3  16f320793b9526553d2f39a459973c1aff2e1fa9d69901...   \n",
       "4  f5fec2a0f6619162244f75783add2deaad7b8a386ddb0f...   \n",
       "5  94a85411afe535ec8d1d315c292e96415d7644da406997...   \n",
       "6  9f9c3f5d1128a337f9540a2e04ab50cd5da521cc17e408...   \n",
       "\n",
       "                                              origem   timestamp_ingestão  \\\n",
       "0  SouJunior_competitor_analytics_1717580626326.xlsx  2025-01-14 01:07:25   \n",
       "1  SouJunior_competitor_analytics_1717580626326.xlsx  2025-01-14 01:07:25   \n",
       "2  SouJunior_competitor_analytics_1717580626326.xlsx  2025-01-14 01:07:25   \n",
       "3  SouJunior_competitor_analytics_1717580626326.xlsx  2025-01-14 01:07:25   \n",
       "4  SouJunior_competitor_analytics_1717580626326.xlsx  2025-01-14 01:07:25   \n",
       "5  SouJunior_competitor_analytics_1717580626326.xlsx  2025-01-14 01:07:25   \n",
       "6  SouJunior_competitor_analytics_1717580626326.xlsx  2025-01-14 01:07:25   \n",
       "\n",
       "  data_competencia     fonte  \n",
       "0       2025-01-01  linkedin  \n",
       "1       2025-01-01  linkedin  \n",
       "2       2025-01-01  linkedin  \n",
       "3       2025-01-01  linkedin  \n",
       "4       2025-01-01  linkedin  \n",
       "5       2025-01-01  linkedin  \n",
       "6       2025-01-01  linkedin  "
      ]
     },
     "execution_count": 5,
     "metadata": {},
     "output_type": "execute_result"
    }
   ],
   "source": [
    "df = etl(df)\n",
    "df"
   ]
  },
  {
   "cell_type": "markdown",
   "metadata": {},
   "source": [
    "# Ingest"
   ]
  },
  {
   "cell_type": "code",
   "execution_count": 6,
   "metadata": {},
   "outputs": [
    {
     "name": "stdout",
     "output_type": "stream",
     "text": [
      "1\n"
     ]
    }
   ],
   "source": [
    "from sqlalchemy import create_engine, text\n",
    "import os\n",
    "from dotenv import load_dotenv\n",
    "\n",
    "load_dotenv()\n",
    "\n",
    "username = os.getenv(\"DB_USERNAME\")\n",
    "password = os.getenv(\"DB_PASSWORD\")\n",
    "host = os.getenv(\"DB_HOST\")\n",
    "port = os.getenv(\"DB_PORT\")\n",
    "database = os.getenv(\"DB_DATABASE\")\n",
    "\n",
    "engine = create_engine(\n",
    "    f\"mysql+pymysql://{username}:{password}@{host}:{port}/{database}\"\n",
    ")\n",
    "\n",
    "with engine.connect() as conn:\n",
    "    result = conn.execute(text(\"SELECT 1\"))\n",
    "    print(result.scalar())"
   ]
  },
  {
   "cell_type": "code",
   "execution_count": 23,
   "metadata": {},
   "outputs": [
    {
     "name": "stdout",
     "output_type": "stream",
     "text": [
      "tabela criada\n"
     ]
    }
   ],
   "source": [
    "def create_query(df_columns, table_name):\n",
    "    # print(df_columns)\n",
    "    query = f\"CREATE TABLE IF NOT EXISTS {table_name} (\"\n",
    "    query += \"\"\"id VARCHAR(255) PRIMARY KEY, \n",
    "                timestamp_ingestão TIMESTAMP, \n",
    "                data_competencia DATE\"\"\"\n",
    "\n",
    "    for col in df_columns:\n",
    "        if col == \"id\" or col == \"timestamp_ingestão\" or col == \"data_competencia\":\n",
    "            continue\n",
    "        else:\n",
    "            query += f\",{col} TEXT\"\n",
    "\n",
    "    query += \");\"\n",
    "\n",
    "    return query\n",
    "\n",
    "\n",
    "def create_table(df, table_name):\n",
    "    df_columns = df.columns.to_list()\n",
    "    query = create_query(df_columns, table_name)\n",
    "\n",
    "    try:\n",
    "        with engine.connect() as conn:\n",
    "            conn.execute(text(query))\n",
    "            print(\"tabela criada\")\n",
    "\n",
    "    except Exception as e:\n",
    "        print(\"erro ao criar tabela\")\n",
    "        print(e)\n",
    "\n",
    "create_table(df, \"linkedin_concorrentes_concorrentes\")"
   ]
  },
  {
   "cell_type": "code",
   "execution_count": 25,
   "metadata": {},
   "outputs": [
    {
     "name": "stdout",
     "output_type": "stream",
     "text": [
      "Dados inseridos com sucesso!\n"
     ]
    }
   ],
   "source": [
    "def ingest_data(df, table_name):\n",
    "    try:\n",
    "        df.to_sql(\n",
    "            table_name,\n",
    "            con=engine,\n",
    "            if_exists=\"append\",\n",
    "            index=False,\n",
    "        )\n",
    "        print(\"Dados inseridos com sucesso!\")\n",
    "    except Exception as e:\n",
    "        print(e)\n",
    "\n",
    "ingest_data(df, \"linkedin_concorrentes_concorrentes\")"
   ]
  }
 ],
 "metadata": {
  "kernelspec": {
   "display_name": "base",
   "language": "python",
   "name": "python3"
  },
  "language_info": {
   "codemirror_mode": {
    "name": "ipython",
    "version": 3
   },
   "file_extension": ".py",
   "mimetype": "text/x-python",
   "name": "python",
   "nbconvert_exporter": "python",
   "pygments_lexer": "ipython3",
   "version": "3.12.2"
  }
 },
 "nbformat": 4,
 "nbformat_minor": 2
}
